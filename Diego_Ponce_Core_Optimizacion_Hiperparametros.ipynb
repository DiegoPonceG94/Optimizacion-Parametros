{
  "nbformat": 4,
  "nbformat_minor": 0,
  "metadata": {
    "colab": {
      "provenance": []
    },
    "kernelspec": {
      "name": "python3",
      "display_name": "Python 3"
    },
    "language_info": {
      "name": "python"
    }
  },
  "cells": [
    {
      "cell_type": "code",
      "execution_count": null,
      "metadata": {
        "id": "8tMSMn7UNUih"
      },
      "outputs": [],
      "source": [
        "# Librerías base\n",
        "import pandas as pd\n",
        "import numpy as np\n",
        "import seaborn as sns\n",
        "import matplotlib.pyplot as plt\n",
        "\n",
        "# Preprocesamiento\n",
        "from sklearn.compose import ColumnTransformer\n",
        "from sklearn.preprocessing import StandardScaler, OneHotEncoder\n",
        "from sklearn.pipeline import Pipeline\n",
        "from sklearn.impute import SimpleImputer\n",
        "\n",
        "# Modelos\n",
        "from sklearn.linear_model import LogisticRegression\n",
        "from sklearn.neighbors import KNeighborsClassifier\n",
        "from sklearn.tree import DecisionTreeClassifier\n",
        "\n",
        "# Evaluación\n",
        "from sklearn.model_selection import train_test_split, cross_val_score\n",
        "from sklearn.metrics import (\n",
        "    classification_report,\n",
        "    confusion_matrix,\n",
        "    ConfusionMatrixDisplay,\n",
        "    roc_auc_score,\n",
        "    roc_curve\n",
        ")\n",
        "\n",
        "# Búsqueda de hiperparámetros\n",
        "from sklearn.model_selection import GridSearchCV, RandomizedSearchCV\n",
        "from scipy.stats import randint\n"
      ]
    },
    {
      "cell_type": "code",
      "source": [
        "# Montar Drive si estás en Google Colab\n",
        "from google.colab import drive\n",
        "drive.mount('/content/drive')\n",
        "\n",
        "# Leer CSV desde ruta\n",
        "path = \"/content/drive/MyDrive/datasets/insurance.csv\"\n",
        "df = pd.read_csv(path)\n",
        "\n",
        "# Vista general\n",
        "df.head()\n"
      ],
      "metadata": {
        "id": "X7kAuJYMNWen"
      },
      "execution_count": null,
      "outputs": []
    },
    {
      "cell_type": "code",
      "source": [
        "# Resumen de tipos de datos\n",
        "df.info()\n",
        "\n",
        "# Estadísticas generales\n",
        "df.describe()\n",
        "\n",
        "# Comprobamos valores únicos por columna categórica\n",
        "for col in df.select_dtypes(include=['object']).columns:\n",
        "    print(f\"{col}: {df[col].unique()}\")\n"
      ],
      "metadata": {
        "id": "SNYnfjMTNYf9"
      },
      "execution_count": null,
      "outputs": []
    },
    {
      "cell_type": "code",
      "source": [
        "# Valores nulos\n",
        "print(\"Valores nulos por columna:\")\n",
        "print(df.isnull().sum())\n",
        "\n",
        "# Boxplots para ver outliers en columnas numéricas\n",
        "numeric_cols = df.select_dtypes(include=['float64', 'int64']).columns\n",
        "\n",
        "for col in numeric_cols:\n",
        "    plt.figure(figsize=(6, 3))\n",
        "    sns.boxplot(data=df, x=col, color='skyblue')\n",
        "    plt.title(f'Distribución y outliers: {col}')\n",
        "    plt.tight_layout()\n",
        "    plt.show()\n"
      ],
      "metadata": {
        "id": "t38BxwGUNbRJ"
      },
      "execution_count": null,
      "outputs": []
    },
    {
      "cell_type": "code",
      "source": [
        "# Crear variable binaria: 1 si charges > mediana, 0 si no\n",
        "median_charge = df['charges'].median()\n",
        "df['target'] = (df['charges'] > median_charge).astype(int)\n",
        "\n",
        "# Ver distribución de clases\n",
        "print(df['target'].value_counts(normalize=True))\n",
        "sns.countplot(data=df, x='target')\n",
        "plt.title(\"Distribución de target (gasto alto vs bajo)\")\n",
        "plt.show()\n"
      ],
      "metadata": {
        "id": "5F3XbykfNcfV"
      },
      "execution_count": null,
      "outputs": []
    },
    {
      "cell_type": "code",
      "source": [
        "# Definir columnas categóricas y numéricas\n",
        "cat_cols = df.select_dtypes(include=['object']).columns.tolist()\n",
        "num_cols = df.select_dtypes(include=['int64', 'float64']).columns.tolist()\n",
        "num_cols.remove('charges')  # excluimos charges original\n",
        "\n",
        "# Separar X e y\n",
        "X = df.drop(columns=['charges', 'target'])\n",
        "y = df['target']\n",
        "\n",
        "# Pipeline para numéricas\n",
        "numeric_transformer = Pipeline(steps=[\n",
        "    ('imputer', SimpleImputer(strategy='median')),\n",
        "    ('scaler', StandardScaler())\n",
        "])\n",
        "\n",
        "# Pipeline para categóricas\n",
        "categorical_transformer = Pipeline(steps=[\n",
        "    ('imputer', SimpleImputer(strategy='most_frequent')),\n",
        "    ('onehot', OneHotEncoder(handle_unknown='ignore'))\n",
        "])\n",
        "\n",
        "# ColumnTransformer\n",
        "preprocessor = ColumnTransformer([\n",
        "    ('num', numeric_transformer, num_cols),\n",
        "    ('cat', categorical_transformer, cat_cols)\n",
        "])\n"
      ],
      "metadata": {
        "id": "9GkNzqRPNd1_"
      },
      "execution_count": null,
      "outputs": []
    },
    {
      "cell_type": "code",
      "source": [
        "# División train/test\n",
        "X_train, X_test, y_train, y_test = train_test_split(\n",
        "    X, y, test_size=0.2, random_state=42, stratify=y\n",
        ")\n",
        "\n",
        "# Modelos\n",
        "models = {\n",
        "    'Logistic Regression': LogisticRegression(max_iter=1000),\n",
        "    'K-Nearest Neighbors': KNeighborsClassifier(),\n",
        "    'Decision Tree': DecisionTreeClassifier(random_state=42)\n",
        "}\n",
        "\n",
        "# Evaluación con validación cruzada\n",
        "for name, model in models.items():\n",
        "    pipe = Pipeline([\n",
        "        ('preprocessor', preprocessor),\n",
        "        ('classifier', model)\n",
        "    ])\n",
        "    scores = cross_val_score(pipe, X_train, y_train, cv=5, scoring='accuracy')\n",
        "    print(f\"{name}: Accuracy = {scores.mean():.4f} ± {scores.std():.4f}\")\n"
      ],
      "metadata": {
        "id": "1mGRqsipNfGZ"
      },
      "execution_count": null,
      "outputs": []
    },
    {
      "cell_type": "code",
      "source": [
        "# Hiperparámetros para Decision Tree\n",
        "param_grid = {\n",
        "    'classifier__max_depth': [3, 5, 10, None],\n",
        "    'classifier__min_samples_split': [2, 5, 10],\n",
        "    'classifier__min_samples_leaf': [1, 2, 4]\n",
        "}\n",
        "\n",
        "param_dist = {\n",
        "    'classifier__max_depth': [None] + list(range(3, 20)),\n",
        "    'classifier__min_samples_split': randint(2, 20),\n",
        "    'classifier__min_samples_leaf': randint(1, 10)\n",
        "}\n",
        "\n",
        "pipe = Pipeline([\n",
        "    ('preprocessor', preprocessor),\n",
        "    ('classifier', DecisionTreeClassifier(random_state=42))\n",
        "])\n",
        "\n",
        "# GridSearchCV\n",
        "grid_search = GridSearchCV(pipe, param_grid, cv=5, scoring='accuracy', n_jobs=-1, verbose=1)\n",
        "grid_search.fit(X_train, y_train)\n",
        "\n",
        "print(\"GridSearch - Mejor score:\", grid_search.best_score_)\n",
        "print(\"GridSearch - Mejores parámetros:\", grid_search.best_params_)\n",
        "\n",
        "# RandomizedSearchCV\n",
        "random_search = RandomizedSearchCV(pipe, param_distributions=param_dist, n_iter=30,\n",
        "                                   cv=5, scoring='accuracy', n_jobs=-1, verbose=1, random_state=42)\n",
        "random_search.fit(X_train, y_train)\n",
        "\n",
        "print(\"RandomSearch - Mejor score:\", random_search.best_score_)\n",
        "print(\"RandomSearch - Mejores parámetros:\", random_search.best_params_)\n"
      ],
      "metadata": {
        "id": "y_Q_yextNgVb"
      },
      "execution_count": null,
      "outputs": []
    },
    {
      "cell_type": "code",
      "source": [
        "# Elegimos el mejor modelo (de RandomizedSearch)\n",
        "best_model = random_search.best_estimator_\n",
        "y_pred = best_model.predict(X_test)\n",
        "\n",
        "# Reporte\n",
        "print(\"Classification Report:\")\n",
        "print(classification_report(y_test, y_pred))\n",
        "\n",
        "# Matriz de confusión\n",
        "cm = confusion_matrix(y_test, y_pred)\n",
        "disp = ConfusionMatrixDisplay(confusion_matrix=cm)\n",
        "disp.plot()\n",
        "plt.show()\n",
        "\n",
        "# ROC-AUC\n",
        "y_probs = best_model.predict_proba(X_test)[:, 1]\n",
        "roc_auc = roc_auc_score(y_test, y_probs)\n",
        "fpr, tpr, _ = roc_curve(y_test, y_probs)\n",
        "\n",
        "plt.plot(fpr, tpr, label=f\"ROC Curve (AUC = {roc_auc:.2f})\")\n",
        "plt.plot([0, 1], [0, 1], linestyle='--', color='gray')\n",
        "plt.xlabel(\"FPR\")\n",
        "plt.ylabel(\"TPR\")\n",
        "plt.title(\"ROC Curve\")\n",
        "plt.legend()\n",
        "plt.show()\n"
      ],
      "metadata": {
        "id": "hRBMn8KGNhvf"
      },
      "execution_count": null,
      "outputs": []
    },
    {
      "cell_type": "code",
      "source": [],
      "metadata": {
        "id": "5bIu6y5kNjWn"
      },
      "execution_count": null,
      "outputs": []
    }
  ]
}